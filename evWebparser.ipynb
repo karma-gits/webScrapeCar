{
 "cells": [
  {
   "attachments": {},
   "cell_type": "markdown",
   "metadata": {},
   "source": [
    "# Web page scrape to get Vehicle infos from\n",
    " (https://www.caranddriver.com/features/g32463239/new-ev-models-us/)"
   ]
  },
  {
   "cell_type": "code",
   "execution_count": 1,
   "metadata": {},
   "outputs": [],
   "source": [
    "import requests\n",
    "from bs4 import BeautifulSoup\n",
    "from csv import writer\n",
    "import re\n",
    "webpage = requests.get('https://www.caranddriver.com/features/g32463239/new-ev-models-us/')\n",
    "soup = BeautifulSoup(webpage.content,'html.parser')"
   ]
  },
  {
   "attachments": {},
   "cell_type": "markdown",
   "metadata": {},
   "source": [
    "### 1. simple method: \n",
    "     parse Car details and save as 'electric_cars.csv'"
   ]
  },
  {
   "cell_type": "code",
   "execution_count": null,
   "metadata": {},
   "outputs": [],
   "source": [
    "lists = soup.find('div',class_='listicle-body-content')\n",
    "vehicles = lists.find_all('div', class_=\"listicle-slide listicle-slide-landscape listicle-slide-image listicle-slide-multi-retailer\")\n",
    "\n",
    "# Create CSV files \n",
    "with open('electric_cars.csv','w',newline='') as f:\n",
    "  thewriter = writer(f)\n",
    "  header = ['Make','Model','Base Price(USD$)', 'Range(miles)'] # headers \n",
    "  thewriter.writerow(header)\n",
    "\n",
    "  for vehicle in vehicles:\n",
    "      vehiclehead = vehicle.div.span.text.split('—') #title\n",
    "      vehicleinfo = vehicle.find(class_=\"listicle-slide-dek\").find_all('li') #find all the list tags\n",
    "      vechiclePrice =  re.findall(\"[$].*\",vehicleinfo[0].text.strip('*')) #trimming and also strip last'*' too\n",
    "      vehicleRange = re.findall(\"[0-9][0-9][0-9]\",vehicleinfo[2].text) #find 3digits numbers\n",
    "\n",
    "      x = vehiclehead[0].find(\" \") # find first ' ' empty space\n",
    "\n",
    "      make = vehiclehead[0][:x].strip() #make\n",
    "      model = vehiclehead[0][x:].strip() #model\n",
    "      price = vechiclePrice[0].strip()  #base price\n",
    "      range = vehicleRange[0].strip()  #range \n",
    "\n",
    "      infos = [make,model,price,range]\n",
    "      thewriter.writerow(infos)      \n",
    "      "
   ]
  },
  {
   "attachments": {},
   "cell_type": "markdown",
   "metadata": {},
   "source": [
    "### 2. PANDA DATAFRAME method\n",
    "    web scrape, data cleaning, export as CSV file"
   ]
  },
  {
   "cell_type": "code",
   "execution_count": null,
   "metadata": {},
   "outputs": [],
   "source": [
    "import pandas as pd\n",
    "\n",
    "lists = soup.find('div',class_='listicle-body-content')\n",
    "vehicles = lists.find_all('div', class_=\"listicle-slide listicle-slide-landscape listicle-slide-image listicle-slide-multi-retailer\")\n",
    "\n",
    "infos = []\n",
    "for vehicle in vehicles:\n",
    "    vehiclehead = vehicle.div.span.text.split('—') #title\n",
    "    vehicleinfo = vehicle.find(class_=\"listicle-slide-dek\").find_all('li') #find all the list tags\n",
    "    vechiclePrice =  re.findall('[$].*',vehicleinfo[0].text.strip('$ *')) #trimming and also strip last'*' too\n",
    "    vehicleRange = re.findall(\"[0-9][0-9][0-9]\",vehicleinfo[2].text) #find 3digits numbers\n",
    "    x = vehiclehead[0].find(\" \") # find first ' ' empty space\n",
    "    make = vehiclehead[0][:x].strip() #make\n",
    "    model = vehiclehead[0][x:].strip() #model\n",
    "    price = vechiclePrice[0].strip() #base price\n",
    "    range = vehicleRange[0].strip()  #range \n",
    "    infos.append([make,model,price,range])\n"
   ]
  },
  {
   "attachments": {},
   "cell_type": "markdown",
   "metadata": {},
   "source": [
    ". give columns title name and convert Make into uppercase"
   ]
  },
  {
   "cell_type": "code",
   "execution_count": 182,
   "metadata": {},
   "outputs": [],
   "source": [
    "df = pd.DataFrame(infos,columns=['Make','Model','Price(usd)','Range(miles)'] )\n",
    "df['Make'] = df['Make'].str.upper() "
   ]
  },
  {
   "attachments": {},
   "cell_type": "markdown",
   "metadata": {},
   "source": [
    "Export to csv files"
   ]
  },
  {
   "cell_type": "code",
   "execution_count": 269,
   "metadata": {},
   "outputs": [],
   "source": [
    "df.to_csv('electric_cars.csv',index=False)"
   ]
  }
 ],
 "metadata": {
  "kernelspec": {
   "display_name": "Python 3",
   "language": "python",
   "name": "python3"
  },
  "language_info": {
   "codemirror_mode": {
    "name": "ipython",
    "version": 3
   },
   "file_extension": ".py",
   "mimetype": "text/x-python",
   "name": "python",
   "nbconvert_exporter": "python",
   "pygments_lexer": "ipython3",
   "version": "3.10.8"
  },
  "orig_nbformat": 4,
  "vscode": {
   "interpreter": {
    "hash": "20488deeaacc197ec71504c78eca63138e9d01197efab337da46f30c756ab54e"
   }
  }
 },
 "nbformat": 4,
 "nbformat_minor": 2
}
